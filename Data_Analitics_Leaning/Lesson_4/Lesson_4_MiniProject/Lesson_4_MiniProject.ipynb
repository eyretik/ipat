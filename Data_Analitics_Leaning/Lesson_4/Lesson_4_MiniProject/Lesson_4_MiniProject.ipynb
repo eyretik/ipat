{
 "cells": [
  {
   "cell_type": "code",
   "execution_count": 2,
   "id": "e1500908",
   "metadata": {},
   "outputs": [],
   "source": [
    "from pathlib import Path\n",
    "import pandas as pd\n",
    "import seaborn as sns\n",
    "import matplotlib.pyplot as plt"
   ]
  },
  {
   "cell_type": "code",
   "execution_count": null,
   "id": "665cecdb",
   "metadata": {},
   "outputs": [],
   "source": []
  },
  {
   "cell_type": "code",
   "execution_count": null,
   "id": "0699a6fb",
   "metadata": {},
   "outputs": [],
   "source": []
  },
  {
   "cell_type": "code",
   "execution_count": 3,
   "id": "24b2c7bb",
   "metadata": {},
   "outputs": [],
   "source": [
    "# The data has the following structure: \n",
    "# recorded for each user who has made purchases, each day there is a different folder for each date,\n",
    "# inside it are folders for each user inside each folder there is a data.csv file where the data is stored\n",
    "# Schematically it looks like this:\n",
    "# └── data\n",
    "#    ├── 2020-12-30\n",
    "#    │  ├── FirstName_LastName1\n",
    "#    │  │   └── data.csv\n",
    "#    │  ├── FirstName_LastName2\n",
    "#    │  │   └── data.csv\n",
    "#    │  └── FirstName_LastName3\n",
    "#    │      └── data.csv\n",
    "#    └── 2020-12-31\n",
    "#       ├── FirstName_LastName1\n",
    "#       │   └── data.csv\n",
    "#       └── FirstName_LastName5\n",
    "#           └── data.csv"
   ]
  },
  {
   "cell_type": "code",
   "execution_count": 4,
   "id": "fc3b34e6",
   "metadata": {},
   "outputs": [],
   "source": [
    "# 4.1 TASK\n",
    "# Collect all data from the data folder into one dataframe with the following columns: \n",
    "# columns from the files themselves (product_id, quantity) as well as the user name (name), \n",
    "# and the date of these purchases (date corresponds to the name of the folder where the user folder lies)"
   ]
  },
  {
   "cell_type": "code",
   "execution_count": 5,
   "id": "8d064d33",
   "metadata": {},
   "outputs": [],
   "source": [
    "sells_by_date = pd.DataFrame({'date':[], 'name':[], 'product_id':[], 'quantity':[]})"
   ]
  },
  {
   "cell_type": "code",
   "execution_count": 6,
   "id": "29dd783b",
   "metadata": {},
   "outputs": [
    {
     "data": {
      "text/html": [
       "<div>\n",
       "<style scoped>\n",
       "    .dataframe tbody tr th:only-of-type {\n",
       "        vertical-align: middle;\n",
       "    }\n",
       "\n",
       "    .dataframe tbody tr th {\n",
       "        vertical-align: top;\n",
       "    }\n",
       "\n",
       "    .dataframe thead th {\n",
       "        text-align: right;\n",
       "    }\n",
       "</style>\n",
       "<table border=\"1\" class=\"dataframe\">\n",
       "  <thead>\n",
       "    <tr style=\"text-align: right;\">\n",
       "      <th></th>\n",
       "      <th>date</th>\n",
       "      <th>name</th>\n",
       "      <th>product_id</th>\n",
       "      <th>quantity</th>\n",
       "    </tr>\n",
       "  </thead>\n",
       "  <tbody>\n",
       "    <tr>\n",
       "      <th>0</th>\n",
       "      <td>2020-12-03</td>\n",
       "      <td>Alexey_Smirnov</td>\n",
       "      <td>47.0</td>\n",
       "      <td>1.0</td>\n",
       "    </tr>\n",
       "    <tr>\n",
       "      <th>1</th>\n",
       "      <td>2020-12-03</td>\n",
       "      <td>Alexey_Smirnov</td>\n",
       "      <td>57.0</td>\n",
       "      <td>1.0</td>\n",
       "    </tr>\n",
       "    <tr>\n",
       "      <th>2</th>\n",
       "      <td>2020-12-03</td>\n",
       "      <td>Alexey_Smirnov</td>\n",
       "      <td>14.0</td>\n",
       "      <td>2.0</td>\n",
       "    </tr>\n",
       "    <tr>\n",
       "      <th>3</th>\n",
       "      <td>2020-12-03</td>\n",
       "      <td>Alexey_Smirnov</td>\n",
       "      <td>52.0</td>\n",
       "      <td>1.0</td>\n",
       "    </tr>\n",
       "    <tr>\n",
       "      <th>4</th>\n",
       "      <td>2020-12-03</td>\n",
       "      <td>Alexey_Smirnov</td>\n",
       "      <td>1.0</td>\n",
       "      <td>4.0</td>\n",
       "    </tr>\n",
       "    <tr>\n",
       "      <th>...</th>\n",
       "      <td>...</td>\n",
       "      <td>...</td>\n",
       "      <td>...</td>\n",
       "      <td>...</td>\n",
       "    </tr>\n",
       "    <tr>\n",
       "      <th>156</th>\n",
       "      <td>2020-12-09</td>\n",
       "      <td>Rostislav_Petrov</td>\n",
       "      <td>66.0</td>\n",
       "      <td>4.0</td>\n",
       "    </tr>\n",
       "    <tr>\n",
       "      <th>157</th>\n",
       "      <td>2020-12-09</td>\n",
       "      <td>Rostislav_Petrov</td>\n",
       "      <td>39.0</td>\n",
       "      <td>2.0</td>\n",
       "    </tr>\n",
       "    <tr>\n",
       "      <th>158</th>\n",
       "      <td>2020-12-09</td>\n",
       "      <td>Vasiliy_Ivanov</td>\n",
       "      <td>82.0</td>\n",
       "      <td>4.0</td>\n",
       "    </tr>\n",
       "    <tr>\n",
       "      <th>159</th>\n",
       "      <td>2020-12-09</td>\n",
       "      <td>Vasiliy_Ivanov</td>\n",
       "      <td>74.0</td>\n",
       "      <td>2.0</td>\n",
       "    </tr>\n",
       "    <tr>\n",
       "      <th>160</th>\n",
       "      <td>2020-12-09</td>\n",
       "      <td>Vasiliy_Ivanov</td>\n",
       "      <td>54.0</td>\n",
       "      <td>3.0</td>\n",
       "    </tr>\n",
       "  </tbody>\n",
       "</table>\n",
       "<p>161 rows × 4 columns</p>\n",
       "</div>"
      ],
      "text/plain": [
       "          date              name  product_id  quantity\n",
       "0   2020-12-03    Alexey_Smirnov        47.0       1.0\n",
       "1   2020-12-03    Alexey_Smirnov        57.0       1.0\n",
       "2   2020-12-03    Alexey_Smirnov        14.0       2.0\n",
       "3   2020-12-03    Alexey_Smirnov        52.0       1.0\n",
       "4   2020-12-03    Alexey_Smirnov         1.0       4.0\n",
       "..         ...               ...         ...       ...\n",
       "156 2020-12-09  Rostislav_Petrov        66.0       4.0\n",
       "157 2020-12-09  Rostislav_Petrov        39.0       2.0\n",
       "158 2020-12-09    Vasiliy_Ivanov        82.0       4.0\n",
       "159 2020-12-09    Vasiliy_Ivanov        74.0       2.0\n",
       "160 2020-12-09    Vasiliy_Ivanov        54.0       3.0\n",
       "\n",
       "[161 rows x 4 columns]"
      ]
     },
     "execution_count": 6,
     "metadata": {},
     "output_type": "execute_result"
    }
   ],
   "source": [
    "for csv_path in Path('./data').glob(\"**/*.csv\"):           # cycle go over all csv files in \"data\" folder\n",
    "    full_path_of_small_df = Path(Path.cwd(), csv_path)     # create full path for a csv file\n",
    "    small_df = pd.read_csv(str(full_path_of_small_df))     # read the csv file\n",
    "    small_df = small_df[['product_id', 'quantity']]        # remove unnecessary column \"Unnamed: 0\"\n",
    "    \n",
    "    path_in_string = str(csv_path)                         # transmute \"windows Path\" object to string\n",
    "    path_in_list = path_in_string.split('\\\\')              # split path to list of folder names\n",
    "    \n",
    "    small_df['date'] = path_in_list[1]                     # path_in_list[1] contain date of sell. We can create and fill column 'date'\n",
    "    small_df['name'] = path_in_list[2]                     # path_in_list[2] contain name of buyer. We can create and fill column 'name'\n",
    "    \n",
    "    sells_by_date = pd.concat([sells_by_date, small_df], ignore_index=True)  # add data from csv file to global dataframe\n",
    "\n",
    "sells_by_date['date'] = pd.to_datetime(sells_by_date['date'])  # specify 'date' column as containing datetime object\n",
    "\n",
    "sells_by_date"
   ]
  },
  {
   "cell_type": "code",
   "execution_count": 7,
   "id": "797d6ac8",
   "metadata": {},
   "outputs": [
    {
     "data": {
      "text/plain": [
       "quantity    480.0\n",
       "dtype: float64"
      ]
     },
     "execution_count": 7,
     "metadata": {},
     "output_type": "execute_result"
    }
   ],
   "source": [
    "# 4.2 Task: enter the amount in the quantity column\n",
    "\n",
    "(\n",
    "  sells_by_date\n",
    "    .aggregate({'quantity' : 'sum'})\n",
    ")\n",
    "\n",
    "# Answer - 480"
   ]
  },
  {
   "cell_type": "code",
   "execution_count": 8,
   "id": "88300f87",
   "metadata": {},
   "outputs": [
    {
     "data": {
      "text/html": [
       "<div>\n",
       "<style scoped>\n",
       "    .dataframe tbody tr th:only-of-type {\n",
       "        vertical-align: middle;\n",
       "    }\n",
       "\n",
       "    .dataframe tbody tr th {\n",
       "        vertical-align: top;\n",
       "    }\n",
       "\n",
       "    .dataframe thead th {\n",
       "        text-align: right;\n",
       "    }\n",
       "</style>\n",
       "<table border=\"1\" class=\"dataframe\">\n",
       "  <thead>\n",
       "    <tr style=\"text-align: right;\">\n",
       "      <th></th>\n",
       "      <th>name</th>\n",
       "      <th>quantity</th>\n",
       "    </tr>\n",
       "  </thead>\n",
       "  <tbody>\n",
       "    <tr>\n",
       "      <th>3</th>\n",
       "      <td>Alexey_Smirnov</td>\n",
       "      <td>52.0</td>\n",
       "    </tr>\n",
       "    <tr>\n",
       "      <th>13</th>\n",
       "      <td>Petr_Smirnov</td>\n",
       "      <td>52.0</td>\n",
       "    </tr>\n",
       "    <tr>\n",
       "      <th>6</th>\n",
       "      <td>Anton_Smirnov</td>\n",
       "      <td>45.0</td>\n",
       "    </tr>\n",
       "    <tr>\n",
       "      <th>10</th>\n",
       "      <td>Petr_Fedorov</td>\n",
       "      <td>34.0</td>\n",
       "    </tr>\n",
       "    <tr>\n",
       "      <th>7</th>\n",
       "      <td>Kirill_Fedorov</td>\n",
       "      <td>28.0</td>\n",
       "    </tr>\n",
       "  </tbody>\n",
       "</table>\n",
       "</div>"
      ],
      "text/plain": [
       "              name  quantity\n",
       "3   Alexey_Smirnov      52.0\n",
       "13    Petr_Smirnov      52.0\n",
       "6    Anton_Smirnov      45.0\n",
       "10    Petr_Fedorov      34.0\n",
       "7   Kirill_Fedorov      28.0"
      ]
     },
     "execution_count": 8,
     "metadata": {},
     "output_type": "execute_result"
    }
   ],
   "source": [
    "# 4.3 Task: Find out which user bought the most items. If there is more than one,\n",
    "# list the names separated by a comma with a space and in alphabetical order\n",
    "\n",
    "(\n",
    "  sells_by_date\n",
    "    .groupby('name', as_index = False)\n",
    "    .aggregate({'quantity' : 'sum'})\n",
    "    .sort_values('quantity', ascending = False)\n",
    "    .head()\n",
    ")\n",
    "\n",
    "# Answer - Alexey_Smirnov and Petr_Smirnov"
   ]
  },
  {
   "cell_type": "code",
   "execution_count": 9,
   "id": "92fe1d34",
   "metadata": {},
   "outputs": [
    {
     "data": {
      "image/png": "[encoded data removed]",
      "text/plain": [
       "<Figure size 1440x360 with 1 Axes>"
      ]
     },
     "metadata": {
      "needs_background": "light"
     },
     "output_type": "display_data"
    }
   ],
   "source": [
    "# 4.4 Task: Find the top 10 products by number of units sold over time and build a barplot (bar chart, sns.barplot), where:\n",
    "\n",
    "# on the x-axis are the product identifiers (product_id) \n",
    "# on the y-axis is the total number of their purchases (how many items with that product_id were sold)\n",
    "# For practice try to change graph parameters: colour (color), transparency (alpha), sorting of values on x-axis (order). \n",
    "\n",
    "# The answer is how many units of product with product_id equal to 56 were sold.\n",
    "\n",
    "sells_by_date = sells_by_date.astype({'product_id' : 'int', 'quantity' : 'int'})  # original object type float make .0 on plot\n",
    "\n",
    "how_many_products = (sells_by_date                            # create a new dataframe with the total amount of each item sold\n",
    "                    .groupby('product_id', as_index = False)\n",
    "                    .aggregate({'quantity' : 'sum'})\n",
    "                    )\n",
    "\n",
    "plt.figure(figsize=(20, 5))\n",
    "\n",
    "(\n",
    "    sns.barplot(\n",
    "        x = 'product_id',\n",
    "        y = 'quantity',\n",
    "        data = how_many_products,\n",
    "        color = 'grey',\n",
    "        alpha = 0.5,\n",
    "        order = how_many_products.sort_values('quantity', ascending = False).product_id)\n",
    ")\n",
    "\n",
    "plt.show()"
   ]
  },
  {
   "cell_type": "code",
   "execution_count": 10,
   "id": "e72c82f9",
   "metadata": {},
   "outputs": [],
   "source": [
    "# 4.5 Let's look at sales by day! Use barplot again for visualisation,\n",
    "# but now on the x-axis will be the days for which we have data."
   ]
  },
  {
   "cell_type": "code",
   "execution_count": 11,
   "id": "cb79b08d",
   "metadata": {
    "scrolled": true
   },
   "outputs": [
    {
     "data": {
      "image/png": "[encoded data removed]",
      "text/plain": [
       "<Figure size 1080x360 with 1 Axes>"
      ]
     },
     "metadata": {
      "needs_background": "light"
     },
     "output_type": "display_data"
    }
   ],
   "source": [
    "products_by_days = (sells_by_date                            # create a new dataframe with the total sells by each day\n",
    "                    .groupby('date', as_index = False)\n",
    "                    .aggregate({'quantity' : 'sum'})\n",
    "                    .astype({'date' : 'string'})\n",
    "                    )\n",
    "\n",
    "sells_by_date = sells_by_date.astype({'product_id' : 'int', 'quantity' : 'int'})  # original object type float make .0 on plot\n",
    "\n",
    "plt.figure(figsize=(15, 5))\n",
    "\n",
    "(\n",
    "    sns.barplot(\n",
    "        x = 'date',\n",
    "        y = 'quantity',\n",
    "        data = products_by_days)\n",
    ")\n",
    "\n",
    "plt.show()"
   ]
  },
  {
   "cell_type": "code",
   "execution_count": 27,
   "id": "fcd49623",
   "metadata": {},
   "outputs": [
    {
     "data": {
      "text/html": [
       "<div>\n",
       "<style scoped>\n",
       "    .dataframe tbody tr th:only-of-type {\n",
       "        vertical-align: middle;\n",
       "    }\n",
       "\n",
       "    .dataframe tbody tr th {\n",
       "        vertical-align: top;\n",
       "    }\n",
       "\n",
       "    .dataframe thead th {\n",
       "        text-align: right;\n",
       "    }\n",
       "</style>\n",
       "<table border=\"1\" class=\"dataframe\">\n",
       "  <thead>\n",
       "    <tr style=\"text-align: right;\">\n",
       "      <th></th>\n",
       "      <th>name</th>\n",
       "      <th>product_id</th>\n",
       "      <th>shopping_days_number</th>\n",
       "    </tr>\n",
       "  </thead>\n",
       "  <tbody>\n",
       "    <tr>\n",
       "      <th>37</th>\n",
       "      <td>Anton_Ivanov</td>\n",
       "      <td>15</td>\n",
       "      <td>2</td>\n",
       "    </tr>\n",
       "    <tr>\n",
       "      <th>92</th>\n",
       "      <td>Petr_Fedorov</td>\n",
       "      <td>94</td>\n",
       "      <td>2</td>\n",
       "    </tr>\n",
       "  </tbody>\n",
       "</table>\n",
       "</div>"
      ],
      "text/plain": [
       "            name  product_id  shopping_days_number\n",
       "37  Anton_Ivanov          15                     2\n",
       "92  Petr_Fedorov          94                     2"
      ]
     },
     "execution_count": 27,
     "metadata": {},
     "output_type": "execute_result"
    }
   ],
   "source": [
    "# 4.6 How many users have purchased any product repeatedly (more than once)?\n",
    "# A repeat purchase is a purchase of an item with the same product_id made on different days. \n",
    "\n",
    "# For example, user Sasha Tsarev bought item 6 twice. Since the purchase was made on the same day,\n",
    "# it will not be counted as repeated in this case. Katya Skriptsova also made two purchases of product 7,\n",
    "# but on different days, so this case counts.\n",
    "\n",
    "(\n",
    " sells_by_date\n",
    " .groupby(['name', 'product_id'], as_index = False)\n",
    " .agg({'date' : pd.Series.nunique})                   # counting the number of days a person has bought an product\n",
    " .rename(columns = {'date' : 'shopping_days_number'})\n",
    " .query(\"shopping_days_number != 1\")\n",
    ")\n",
    "\n",
    "# Answer - 2"
   ]
  },
  {
   "cell_type": "code",
   "execution_count": null,
   "id": "95f2b8dc",
   "metadata": {},
   "outputs": [],
   "source": []
  }
 ],
 "metadata": {
  "kernelspec": {
   "display_name": "Python 3 (ipykernel)",
   "language": "python",
   "name": "python3"
  },
  "language_info": {
   "codemirror_mode": {
    "name": "ipython",
    "version": 3
   },
   "file_extension": ".py",
   "mimetype": "text/x-python",
   "name": "python",
   "nbconvert_exporter": "python",
   "pygments_lexer": "ipython3",
   "version": "3.9.7"
  }
 },
 "nbformat": 4,
 "nbformat_minor": 5
}
